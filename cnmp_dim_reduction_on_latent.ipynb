{
 "cells": [
  {
   "cell_type": "code",
   "execution_count": 1,
   "metadata": {},
   "outputs": [
    {
     "name": "stderr",
     "output_type": "stream",
     "text": [
      "Using TensorFlow backend.\n"
     ]
    },
    {
     "name": "stdout",
     "output_type": "stream",
     "text": [
      "WARNING:tensorflow:From /home/yigit/.local/lib/python3.7/site-packages/tensorflow_core/python/ops/linalg/linear_operator_diag.py:166: calling LinearOperator.__init__ (from tensorflow.python.ops.linalg.linear_operator) with graph_parents is deprecated and will be removed in a future version.\n",
      "Instructions for updating:\n",
      "Do not pass `graph_parents`.  They will  no longer be used.\n"
     ]
    }
   ],
   "source": [
    "import os\n",
    "from keras.models import Model, load_model\n",
    "import keras.losses\n",
    "import tensorflow as tf\n",
    "import tensorflow_probability as tfp\n",
    "\n",
    "import numpy as np\n",
    "\n",
    "import time\n",
    "\n",
    "\n",
    "def custom_loss(y_true, y_predicted):\n",
    "    mean, log_sigma = tf.split(y_predicted, 2, axis=-1)\n",
    "    y_true_value, temp = tf.split(y_true, 2, axis=-1)\n",
    "    sigma = tf.nn.softplus(log_sigma)\n",
    "    dist = tfp.distributions.MultivariateNormalDiag(loc=mean, scale_diag=sigma)\n",
    "    loss = -tf.reduce_mean(dist.log_prob(y_true_value))\n",
    "    return loss\n",
    "\n",
    "\n",
    "root_path = f'/home/yigit/phd/yigit_phd_thesis/cnmp/output/sfm/small_env_changing_s_g/'\n",
    "test_id = '1607473236'\n",
    "model_path = f'{root_path}{test_id}/'\n",
    "\n",
    "data_root = \"/home/yigit/phd/yigit_phd_thesis/cnmp/data/sfm/small_env_changing_s_g/\"\n",
    "data_path = f\"{data_root}demonstrations/\"\n",
    "output_path = f'{data_root}dim_reduction/'\n",
    "\n",
    "keras.losses.custom_loss = custom_loss\n",
    "model = load_model(f'{model_path}cnmp_best_validation.h5', custom_objects={'tf': tf})\n",
    "\n",
    "latent_layer = Model(inputs=model.input, outputs=model.get_layer('obs_mlp').get_output_at(-1))"
   ]
  },
  {
   "cell_type": "code",
   "execution_count": 2,
   "metadata": {},
   "outputs": [],
   "source": [
    "def select_data(X, Y, G):\n",
    "    idx_left = np.where(np.logical_and(gamma[:,0,0] > 1.97, gamma[:,0,0] < 2.03))[0][0]\n",
    "    idx_right = np.where(np.logical_and(gamma[:,0,0] > -2.03, gamma[:,0,0] < -1.97))[0][0]\n",
    "    \n",
    "    x=np.zeros((2, X.shape[1], X.shape[2]))\n",
    "    y=np.zeros((2, Y.shape[1], Y.shape[2]))\n",
    "    g=np.zeros((2, G.shape[1], G.shape[2]))\n",
    "    \n",
    "    x[0] = X[idx_left]\n",
    "    x[1] = X[idx_right]\n",
    "    y[0] = Y[idx_left]\n",
    "    y[1] = Y[idx_right]\n",
    "    g[0] = G[idx_left]\n",
    "    g[1] = G[idx_right]\n",
    "    \n",
    "    return x, y, g"
   ]
  },
  {
   "cell_type": "code",
   "execution_count": 3,
   "metadata": {},
   "outputs": [],
   "source": [
    "all_X, all_Y, all_gamma = (np.load(data_path + 'd_x.npy'), np.load(data_path + 'd_y.npy'), np.load(data_path + 'd_gamma.npy'))\n",
    "\n",
    "X, Y, gamma = all_X, all_Y, all_gamma\n",
    "# X, Y, gamma = select_data(all_X, all_Y, all_gamma)\n"
   ]
  },
  {
   "cell_type": "code",
   "execution_count": 4,
   "metadata": {},
   "outputs": [
    {
     "name": "stdout",
     "output_type": "stream",
     "text": [
      "d_N = 7068\n",
      "d_x = 2\n",
      "d_y = 2\n",
      "d_gamma = 2\n",
      "time_len = 400\n"
     ]
    }
   ],
   "source": [
    "d_N = X.shape[0]\n",
    "d_x, d_y, d_gamma = (X.shape[-1], Y.shape[-1], gamma.shape[-1])  # d_x, d_y: dimensions\n",
    "time_len = X.shape[1]\n",
    "\n",
    "print(f'd_N = {d_N}')\n",
    "print(f'd_x = {d_x}')\n",
    "print(f'd_y = {d_y}')\n",
    "print(f'd_gamma = {d_gamma}')\n",
    "print(f'time_len = {time_len}')"
   ]
  },
  {
   "cell_type": "code",
   "execution_count": 5,
   "metadata": {},
   "outputs": [],
   "source": [
    "def get_sample(index, n):\n",
    "    # select an observation and n targets\n",
    "    target_step = -1\n",
    "    observation = np.zeros((1, n, d_x + d_y + d_gamma))\n",
    "    target_X_gamma = np.zeros((1, 1, d_x + d_gamma))\n",
    "    \n",
    "    perm = np.random.permutation(time_len)\n",
    "    observation[0, :n, :d_x] = X[index, perm[:n]]\n",
    "    observation[0, :n, d_x:d_x+d_gamma] = gamma[index, perm[:n]]  # gamma concatenation to observation\n",
    "    observation[0, :n, d_x+d_gamma:d_x+d_gamma+d_y] = Y[index, perm[:n]]\n",
    "    \n",
    "    # last step used as target (not actually used but just for compatibility issues)\n",
    "    target_X_gamma[0, 0, :d_x] = X[index, target_step]\n",
    "    target_X_gamma[0,:n, d_x:d_x+d_gamma] = gamma[index, target_step]  # gamma concatenation to target query\n",
    "    return (observation, target_X_gamma)"
   ]
  },
  {
   "cell_type": "code",
   "execution_count": 6,
   "metadata": {
    "scrolled": true
   },
   "outputs": [
    {
     "name": "stdout",
     "output_type": "stream",
     "text": [
      "(1, 2, 6)\n",
      "(1, 1, 4)\n"
     ]
    }
   ],
   "source": [
    "a, b = get_sample(0, 2)  # testing method\n",
    "print(a.shape)\n",
    "print(b.shape)"
   ]
  },
  {
   "cell_type": "code",
   "execution_count": 7,
   "metadata": {},
   "outputs": [],
   "source": [
    "latent_shape = (1, 1, 128)\n",
    "n = 50  # number of samples from each trajectory\n",
    "latent_training_values = np.zeros((d_N * n, latent_shape[2]))  # for each of d_N trajectories, we have n samples\n",
    "\n",
    "for i in range(d_N):\n",
    "    observations, target = get_sample(i, n)\n",
    "    for j in range(n):\n",
    "        observation = observations[:, j, :].reshape(1, 1, d_x+d_gamma+d_y)\n",
    "        latent_training_values[i*n+j] = latent_layer.predict([observation, target]).reshape(1, latent_shape[2])\n",
    "\n",
    "# obs_ = np.array([0.0831583e-02, 2.8e+01, 1.006e+00, 14.0, 0.0, 2.01129232e-04]).reshape(1, 1, 6)\n",
    "# tar_ = np.array([0, 0, 0, 0]).reshape(1, 1, 4)\n",
    "# obs_ = np.array([1, 10, -0.25, -0.25, 1, 1]).reshape(1, 1, 6)\n",
    "# tar_ = np.array([0, 0, 1, 0]).reshape(1, 1, 4)\n",
    "# latent_values[-4] = latent_layer.predict([obs_, tar_]).reshape(1, latent_shape[2])\n",
    "# obs_ = np.array([0, 0, 0, 0.0, 0.0, 0]).reshape(1, 1, 6)\n",
    "# tar_ = np.array([0, 0, 0, 0]).reshape(1, 1, 4)\n",
    "# latent_values[-3] = latent_layer.predict([obs_, tar_]).reshape(1, latent_shape[2])\n",
    "# obs_ = np.array([100, 100, 100, 100, 100, 100]).reshape(1, 1, 6)\n",
    "# tar_ = np.array([100, 100, 100, 100]).reshape(1, 1, 4)\n",
    "# latent_values[-2] = latent_layer.predict([obs_, tar_]).reshape(1, latent_shape[2])\n",
    "# obs_ = np.array([-100, -100, -100, -100, -100, -100]).reshape(1, 1, 6)\n",
    "# tar_ = np.array([-100, -100, -100, -100]).reshape(1, 1, 4)\n",
    "# latent_values[-1] = latent_layer.predict([obs_, tar_]).reshape(1, latent_shape[2])\n",
    "\n",
    "try:\n",
    "    os.mkdir(output_path)\n",
    "except:\n",
    "    pass\n",
    "\n",
    "np.save(f'{output_path}{test_id}.npy', latent_training_values)"
   ]
  },
  {
   "cell_type": "code",
   "execution_count": 8,
   "metadata": {},
   "outputs": [
    {
     "name": "stdout",
     "output_type": "stream",
     "text": [
      "(353400, 2)\n"
     ]
    }
   ],
   "source": [
    "pca_flag = True\n",
    "if not pca_flag:\n",
    "    from sklearn.manifold import TSNE\n",
    "\n",
    "    tsne = TSNE(n_jobs=-1)\n",
    "    latent_tsne = tsne.fit_transform(latent_training_values)\n",
    "    print(latent_tsne.shape)\n",
    "else:\n",
    "    from sklearn.decomposition import PCA\n",
    "\n",
    "    pca = PCA(n_components=2)\n",
    "    latent_pca = pca.fit_transform(latent_training_values)\n",
    "    print(latent_pca.shape)"
   ]
  },
  {
   "cell_type": "code",
   "execution_count": 9,
   "metadata": {},
   "outputs": [
    {
     "data": {
      "image/png": "[encoded data removed]",
      "text/plain": [
       "<Figure size 432x288 with 1 Axes>"
      ]
     },
     "metadata": {
      "needs_background": "light"
     },
     "output_type": "display_data"
    }
   ],
   "source": [
    "import matplotlib.pyplot as plt\n",
    "\n",
    "if not pca_flag:\n",
    "    plt.scatter(latent_tsne[:, 0], latent_tsne[:, 1], s=0.99)\n",
    "else:\n",
    "    plt.scatter(latent_pca[:, 0], latent_pca[:, 1], s=0.99)\n",
    "plt.show()"
   ]
  },
  {
   "cell_type": "code",
   "execution_count": 18,
   "metadata": {},
   "outputs": [
    {
     "name": "stdout",
     "output_type": "stream",
     "text": [
      "1\n",
      "1\n"
     ]
    },
    {
     "data": {
      "image/png": "[encoded data removed]",
      "text/plain": [
       "<Figure size 432x288 with 1 Axes>"
      ]
     },
     "metadata": {
      "needs_background": "light"
     },
     "output_type": "display_data"
    }
   ],
   "source": [
    "import matplotlib.cm as cm\n",
    "\n",
    "# runs_dir = f'{model_path}runs/'\n",
    "runs_dir = '/home/yigit/Desktop/cnmp_test_ls:128/moving/'\n",
    "try:\n",
    "    os.mkdir(runs_dir)\n",
    "except:\n",
    "    pass\n",
    "\n",
    "latent_states_by_traj = []\n",
    "for run in os.listdir(runs_dir):\n",
    "    if run.endswith('.npy'):\n",
    "        tmp_run = np.load(os.path.join(runs_dir, run))\n",
    "        len_tmp_run = len(tmp_run)\n",
    "\n",
    "        latent_states_of_cur_traj = np.zeros((len_tmp_run-1, latent_shape[2]))  # (num_states, 64)\n",
    "\n",
    "        target_X_gamma = np.array([tmp_run[-1][0], tmp_run[-1][1], tmp_run[-1][2], tmp_run[-1][3]]).reshape(1, 1, d_x+d_gamma)  # x|gamma\n",
    "        for i in range(1, len_tmp_run):  # first steps are wrong\n",
    "            observation = tmp_run[i].reshape(1, 1, d_x+d_gamma+d_y)\n",
    "            latent_repr_of_state = latent_layer.predict([observation, target_X_gamma]).reshape(1, latent_shape[2])\n",
    "            latent_states_of_cur_traj[i-1] = latent_repr_of_state\n",
    "\n",
    "        latent_states_by_traj.append(latent_states_of_cur_traj)\n",
    "\n",
    "#######\n",
    "\n",
    "x = np.arange(10)\n",
    "ys = [i+x+(i*x)**2 for i in range(len(latent_states_by_traj))]\n",
    "colors = cm.rainbow(np.linspace(0, 1, len(ys)))\n",
    "    \n",
    "if not pca_flag:\n",
    "#     latent_states_tsne = tsne.transform(latent_states)\n",
    "    plt.scatter(latent_tsne[:, 0], latent_tsne[:, 1], s=0.99)\n",
    "#     plt.scatter(latent_states_tsne[:, 0], latent_states_tsne[:, 1], s=0.99, color='red')\n",
    "else:\n",
    "    plt.scatter(latent_pca[:, 0], latent_pca[:, 1], s=0.99, color='#9ab7d3')\n",
    "    for traj, c in zip(latent_states_by_traj, colors):\n",
    "        print('1')\n",
    "        latent_states_by_traj_pca = pca.transform(traj)\n",
    "        plt.scatter(latent_states_by_traj_pca[:-50, 0], latent_states_by_traj_pca[:-50, 1], s=0.99, color=c)\n",
    "plt.show()"
   ]
  },
  {
   "cell_type": "code",
   "execution_count": null,
   "metadata": {},
   "outputs": [],
   "source": []
  }
 ],
 "metadata": {
  "kernelspec": {
   "display_name": "Python 3",
   "language": "python",
   "name": "python3"
  },
  "language_info": {
   "codemirror_mode": {
    "name": "ipython",
    "version": 3
   },
   "file_extension": ".py",
   "mimetype": "text/x-python",
   "name": "python",
   "nbconvert_exporter": "python",
   "pygments_lexer": "ipython3",
   "version": "3.7.7"
  }
 },
 "nbformat": 4,
 "nbformat_minor": 4
}
